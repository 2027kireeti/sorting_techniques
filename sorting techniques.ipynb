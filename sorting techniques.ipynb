{
 "cells": [
  {
   "cell_type": "markdown",
   "metadata": {},
   "source": [
    "# bubble sort\n",
    " \n"
   ]
  },
  {
   "cell_type": "code",
   "execution_count": 10,
   "metadata": {},
   "outputs": [
    {
     "name": "stdout",
     "output_type": "stream",
     "text": [
      "0 1 2 3 4 5 0 1 2 3 4 0 1 2 3 0 1 2 0 1 0 [1, 2, 3, 4, 5, 8, 9]\n"
     ]
    }
   ],
   "source": [
    "def sort(nums):\n",
    "    for i in range(len(nums)-1,0,-1):\n",
    "        #print(i)\n",
    "        for j in range(i):\n",
    "            #print(j,end=\" \")\n",
    "            if nums[j]>nums[j+1]:\n",
    "                temp=nums[j]\n",
    "                nums[j]=nums[j+1]\n",
    "                nums[j+1]=temp\n",
    "nums=[8,5,3,9,4,2,1]\n",
    "sort(nums)\n",
    "print(nums)"
   ]
  },
  {
   "cell_type": "markdown",
   "metadata": {},
   "source": [
    "# insertion sort"
   ]
  },
  {
   "cell_type": "code",
   "execution_count": 19,
   "metadata": {},
   "outputs": [
    {
     "name": "stdout",
     "output_type": "stream",
     "text": [
      "[0, 1, 2, 4, 4, 7, 9]\n"
     ]
    }
   ],
   "source": [
    "def insertionsort(my_list):\n",
    "    for index in range(1,len(my_list)):\n",
    "        curent_element=my_list[index]\n",
    "        pos=index\n",
    "        while curent_element<my_list[pos-1] and pos>0:\n",
    "            my_list[pos]=my_list[pos-1]\n",
    "            pos=pos-1\n",
    "        my_list[pos]=curent_element\n",
    "        \n",
    "list1=[7,2,4,1,9,4,0]\n",
    "insertionsort(list1)\n",
    "print(list1)"
   ]
  },
  {
   "cell_type": "markdown",
   "metadata": {},
   "source": [
    "# selection sort"
   ]
  },
  {
   "cell_type": "code",
   "execution_count": 24,
   "metadata": {},
   "outputs": [
    {
     "name": "stdout",
     "output_type": "stream",
     "text": [
      "5 11 22 64 333 "
     ]
    }
   ],
   "source": [
    "a=[64,5,333,22,11]\n",
    "for i in range(len(a)):\n",
    "    min_index=i\n",
    "    for j in range(i+1,len(a)):\n",
    "        if a[min_index]>a[j]:\n",
    "            min_index=j\n",
    "    a[i],a[min_index]=a[min_index],a[i]\n",
    "for i in range(len(a)):\n",
    "    print(a[i],end=\" \")"
   ]
  },
  {
   "cell_type": "code",
   "execution_count": null,
   "metadata": {},
   "outputs": [],
   "source": []
  }
 ],
 "metadata": {
  "kernelspec": {
   "display_name": "Python 3",
   "language": "python",
   "name": "python3"
  },
  "language_info": {
   "codemirror_mode": {
    "name": "ipython",
    "version": 3
   },
   "file_extension": ".py",
   "mimetype": "text/x-python",
   "name": "python",
   "nbconvert_exporter": "python",
   "pygments_lexer": "ipython3",
   "version": "3.7.6"
  }
 },
 "nbformat": 4,
 "nbformat_minor": 4
}
