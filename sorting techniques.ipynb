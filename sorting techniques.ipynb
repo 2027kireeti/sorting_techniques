{
 "cells": [
  {
   "cell_type": "markdown",
   "metadata": {},
   "source": [
    "# bubble sort\n",
    " \n"
   ]
  },
  {
   "cell_type": "code",
   "execution_count": 10,
   "metadata": {},
   "outputs": [
    {
     "name": "stdout",
     "output_type": "stream",
     "text": [
      "0 1 2 3 4 5 0 1 2 3 4 0 1 2 3 0 1 2 0 1 0 [1, 2, 3, 4, 5, 8, 9]\n"
     ]
    }
   ],
   "source": [
    "def sort(nums):\n",
    "    for i in range(len(nums)-1,0,-1):\n",
    "        #print(i)\n",
    "        for j in range(i):\n",
    "            #print(j,end=\" \")\n",
    "            if nums[j]>nums[j+1]:\n",
    "                temp=nums[j]\n",
    "                nums[j]=nums[j+1]\n",
    "                nums[j+1]=temp\n",
    "nums=[8,5,3,9,4,2,1]\n",
    "sort(nums)\n",
    "print(nums)"
   ]
  },
  {
   "cell_type": "markdown",
   "metadata": {},
   "source": [
    "# insertion sort"
   ]
  },
  {
   "cell_type": "code",
   "execution_count": 19,
   "metadata": {},
   "outputs": [
    {
     "name": "stdout",
     "output_type": "stream",
     "text": [
      "[0, 1, 2, 4, 4, 7, 9]\n"
     ]
    }
   ],
   "source": [
    "def insertionsort(my_list):\n",
    "    for index in range(1,len(my_list)):\n",
    "        curent_element=my_list[index]\n",
    "        pos=index\n",
    "        while curent_element<my_list[pos-1] and pos>0:\n",
    "            my_list[pos]=my_list[pos-1]\n",
    "            pos=pos-1\n",
    "        my_list[pos]=curent_element\n",
    "        \n",
    "list1=[7,2,4,1,9,4,0]\n",
    "insertionsort(list1)\n",
    "print(list1)"
   ]
  },
  {
   "cell_type": "markdown",
   "metadata": {},
   "source": [
    "# selection sort"
   ]
  },
  {
   "cell_type": "code",
   "execution_count": 24,
   "metadata": {},
   "outputs": [
    {
     "name": "stdout",
     "output_type": "stream",
     "text": [
      "5 11 22 64 333 "
     ]
    }
   ],
   "source": [
    "a=[64,5,333,22,11]\n",
    "for i in range(len(a)):\n",
    "    min_index=i\n",
    "    for j in range(i+1,len(a)):\n",
    "        if a[min_index]>a[j]:\n",
    "            min_index=j\n",
    "    a[i],a[min_index]=a[min_index],a[i]\n",
    "for i in range(len(a)):\n",
    "    print(a[i],end=\" \")"
   ]
  },
  {
   "cell_type": "markdown",
   "metadata": {},
   "source": [
    "# quick sort  (ascending order) taking the first element as pivot"
   ]
  },
  {
   "cell_type": "code",
   "execution_count": 1,
   "metadata": {},
   "outputs": [
    {
     "name": "stdout",
     "output_type": "stream",
     "text": [
      "[11, 22, 31, 33, 44, 44, 99]\n"
     ]
    }
   ],
   "source": [
    "#To get the correct position of the pivot element\n",
    "def pivot_place(list1,first,last):\n",
    "    pivot=list1[first]\n",
    "    left=first+1\n",
    "    right=last\n",
    "    while True:\n",
    "        while left<=right and list1[left]<=pivot:\n",
    "            left=left+1\n",
    "        while left<=right and list1[right]>=pivot:\n",
    "            right=right-1\n",
    "        if right<left:\n",
    "            break\n",
    "        else:\n",
    "            list1[left],list1[right]=list1[right],list1[left]\n",
    "    list1[first],list1[right]=list1[right],list1[first]\n",
    "    return right\n",
    "def quicksort(list1,first,last):\n",
    "    if first<last:\n",
    "        p=pivot_place(list1,first,last)\n",
    "        quicksort(list1,first,p-1)\n",
    "        quicksort(list1,p+1,last)\n",
    "list1=[44,22,31,99,33,44,11]\n",
    "n=len(list1)\n",
    "quicksort(list1,0,n-1)\n",
    "print(list1)\n",
    "\n",
    "        \n",
    "            "
   ]
  },
  {
   "cell_type": "markdown",
   "metadata": {},
   "source": [
    "# Quick sort (desscending order) taking the first element as the pivot"
   ]
  },
  {
   "cell_type": "code",
   "execution_count": 2,
   "metadata": {},
   "outputs": [
    {
     "name": "stdout",
     "output_type": "stream",
     "text": [
      "[99, 44, 44, 33, 31, 22, 11]\n"
     ]
    }
   ],
   "source": [
    "#To get the correct position of the pivot element\n",
    "def pivot_place(list1,first,last):\n",
    "    pivot=list1[first]\n",
    "    left=first+1\n",
    "    right=last\n",
    "    while True:\n",
    "        while left<=right and list1[left]>=pivot:\n",
    "            left=left+1\n",
    "        while left<=right and list1[right]<=pivot:\n",
    "            right=right-1\n",
    "        if right<left:\n",
    "            break\n",
    "        else:\n",
    "            list1[left],list1[right]=list1[right],list1[left]\n",
    "    list1[first],list1[right]=list1[right],list1[first]\n",
    "    return right\n",
    "def quicksort(list1,first,last):\n",
    "    if first<last:\n",
    "        p=pivot_place(list1,first,last)\n",
    "        quicksort(list1,first,p-1)\n",
    "        quicksort(list1,p+1,last)\n",
    "list1=[44,22,31,99,33,44,11]\n",
    "n=len(list1)\n",
    "quicksort(list1,0,n-1)\n",
    "print(list1)\n"
   ]
  },
  {
   "cell_type": "markdown",
   "metadata": {},
   "source": [
    "# quick sort taking the last element as pivot (ascending order/descending order)"
   ]
  },
  {
   "cell_type": "code",
   "execution_count": 6,
   "metadata": {},
   "outputs": [
    {
     "name": "stdout",
     "output_type": "stream",
     "text": [
      "[11, 22, 31, 33, 44, 44, 99]\n"
     ]
    }
   ],
   "source": [
    "#To get the correct position of the pivot element\n",
    "def pivot_place(list1,first,last):\n",
    "    pivot=list1[last]\n",
    "    left=first\n",
    "    right=last-1\n",
    "    while True:\n",
    "        while left<=right and list1[left]<=pivot:#for ascending order\n",
    "        #while left<=right and list1[left]>=pivot:for descending order\n",
    "            left=left+1\n",
    "        while left<=right and list1[right]>=pivot:\n",
    "        #while left<=right and list1[right]>=pivot: for descending order\n",
    "            right=right-1\n",
    "        if right<left:\n",
    "            break\n",
    "        else:\n",
    "            list1[left],list1[right]=list1[right],list1[left]\n",
    "    list1[last],list1[left]=list1[left],list1[last]\n",
    "    return left\n",
    "def quicksort(list1,first,last):\n",
    "    if first<last:\n",
    "        p=pivot_place(list1,first,last)\n",
    "        quicksort(list1,first,p-1)\n",
    "        quicksort(list1,p+1,last)\n",
    "list1=[44,22,31,99,33,44,11]\n",
    "n=len(list1)\n",
    "quicksort(list1,0,n-1)\n",
    "print(list1)\n"
   ]
  },
  {
   "cell_type": "markdown",
   "metadata": {},
   "source": [
    "# quick sort by taking the random element as a pivot"
   ]
  },
  {
   "cell_type": "code",
   "execution_count": 8,
   "metadata": {},
   "outputs": [
    {
     "name": "stdout",
     "output_type": "stream",
     "text": [
      "[11, 22, 31, 33, 44, 44, 99]\n"
     ]
    }
   ],
   "source": [
    "import random\n",
    "#To get the correct position of the pivot element\n",
    "def pivot_place(list1,first,last):\n",
    "    rindex=random.randint(first,last)\n",
    "    list1[rindex],list1[last]=list1[last],list1[rindex]\n",
    "    pivot=list1[last]\n",
    "    left=first\n",
    "    right=last-1\n",
    "    while True:\n",
    "        while left<=right and list1[left]<=pivot:#for ascending order\n",
    "        #while left<=right and list1[left]>=pivot:for descending order\n",
    "            left=left+1\n",
    "        while left<=right and list1[right]>=pivot:\n",
    "        #while left<=right and list1[right]>=pivot: for descending order\n",
    "            right=right-1\n",
    "        if right<left:\n",
    "            break\n",
    "        else:\n",
    "            list1[left],list1[right]=list1[right],list1[left]\n",
    "    list1[last],list1[left]=list1[left],list1[last]\n",
    "    return left\n",
    "def quicksort(list1,first,last):\n",
    "    if first<last:\n",
    "        p=pivot_place(list1,first,last)\n",
    "        quicksort(list1,first,p-1)\n",
    "        quicksort(list1,p+1,last)\n",
    "list1=[44,22,31,99,33,44,11]\n",
    "n=len(list1)\n",
    "quicksort(list1,0,n-1)\n",
    "print(list1)\n"
   ]
  },
  {
   "cell_type": "markdown",
   "metadata": {},
   "source": [
    "# quick sort by taking the average of first ,mid,last as a pivot element"
   ]
  },
  {
   "cell_type": "code",
   "execution_count": null,
   "metadata": {},
   "outputs": [],
   "source": [
    "import statistics\n",
    "#To get the correct position of the pivot element\n",
    "def pivot_place(list1,first,last):\n",
    "    low=list1[first]\n",
    "    high=list1[last]\n",
    "    mid=(first+last)//2\n",
    "    pivot_val=statistics.median([low,list1[mid],high])\n",
    "    if pivot_val==low:\n",
    "        pindex = first\n",
    "    elif pivot_val==high:\n",
    "        pindex = last\n",
    "    else:\n",
    "        pindex = mid\n",
    "    list1[last],list1[pindex] = list1[pindex],list1[last]\n",
    "    pivot=list1[last]\n",
    "    left=first\n",
    "    right=last-1\n",
    "    while True:\n",
    "        #while left<=right and list1[left]<=pivot:#for ascending order\n",
    "        while left<=right and list1[left]>=pivot:\n",
    "            left=left+1\n",
    "        #while left<=right and list1[right]>=pivot:\n",
    "        while left<=right and list1[right]>=pivot:\n",
    "            right=right-1\n",
    "        if right<left:\n",
    "            break\n",
    "        else:\n",
    "            list1[left],list1[right]=list1[right],list1[left]\n",
    "    list1[last],list1[left]=list1[left],list1[last]\n",
    "    return left\n",
    "def quicksort(list1,first,last):\n",
    "    if first<last:\n",
    "        p=pivot_place(list1,first,last)\n",
    "        quicksort(list1,first,p-1)\n",
    "        quicksort(list1,p+1,last)\n",
    "list1=[44,22,31,99,33,44,11]\n",
    "n=len(list1)\n",
    "quicksort(list1,0,n-1)\n",
    "print(list1)"
   ]
  },
  {
   "cell_type": "code",
   "execution_count": 1,
   "metadata": {},
   "outputs": [
    {
     "name": "stdout",
     "output_type": "stream",
     "text": [
      "2\n"
     ]
    }
   ],
   "source": [
    "k=2\n",
    "print(k)"
   ]
  },
  {
   "cell_type": "code",
   "execution_count": null,
   "metadata": {},
   "outputs": [],
   "source": []
  }
 ],
 "metadata": {
  "kernelspec": {
   "display_name": "Python 3",
   "language": "python",
   "name": "python3"
  },
  "language_info": {
   "codemirror_mode": {
    "name": "ipython",
    "version": 3
   },
   "file_extension": ".py",
   "mimetype": "text/x-python",
   "name": "python",
   "nbconvert_exporter": "python",
   "pygments_lexer": "ipython3",
   "version": "3.7.6"
  }
 },
 "nbformat": 4,
 "nbformat_minor": 4
}
